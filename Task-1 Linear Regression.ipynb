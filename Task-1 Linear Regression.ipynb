
  {
   "cell_type": "markdown",
   "id": "6cba4f04",
   "metadata": {},
   "source": [
    "### Linear Regression with Python Scikit Learn - Prediction using Supervised ML\n",
    "\n",
    "\n",
    "\n",
    "\n",
    "### Author - Jayesh Dethe"
   ]
  },
  {
   "cell_type": "markdown",
   "id": "5f51355d",
   "metadata": {},
   "source": [
    "## Task-1 : Predict the percentage of students based on the no. of study hours.\n",
    "\n",
    "**In this regression task we will predict the percentage of marks that a student is expected to score based upon the number of hours they studied. This is a simple Linear Regression task as it involves just two variables.**\n",
    "\n"
   ]
  },
  {
   "cell_type": "markdown",
   "id": "bbc46753",
   "metadata": {},
   "source": [
    "**Step 1: Importing the required Python Libraries**"
   ]
  },
  {
   "cell_type": "code",
   "execution_count": 1,
   "id": "613b01cd",
   "metadata": {},
   "outputs": [],
   "source": [
    "import pandas as pd\n",
    "import numpy as np\n",
    "import matplotlib.pyplot as plt"
   ]
  },
  {
   "cell_type": "code",
   "execution_count": 2,
   "id": "1488ca9e",
   "metadata": {},
   "outputs": [],
   "source": [
    "import sklearn\n",
    "from sklearn.model_selection import train_test_split\n",
    "from sklearn.linear_model import LinearRegression\n",
    "from sklearn import metrics\n",
    "from sklearn.metrics import r2_score"
   ]
  },
  {
   "cell_type": "markdown",
   "id": "a3e5ad18",
   "metadata": {},
   "source": [
    "**Step 2: Importing Data-set**"
   ]
  },
  {
   "cell_type": "code",
   "execution_count": 3,
   "id": "f44aa012",
   "metadata": {},
   "outputs": [],
   "source": [
    "dataset=pd.read_csv(\"https://bit.ly/w-data\")"
   ]
  },
  {
   "cell_type": "code",
   "execution_count": 4,
   "id": "790df2d5",
   "metadata": {},
   "outputs": [
    {
     "name": "stdout",
     "output_type": "stream",
     "text": [
      "Data imported successfully\n"
     ]
    },
    {
     "data": {
      "text/html": [
       "<div>\n",
       "<style scoped>\n",
       "    .dataframe tbody tr th:only-of-type {\n",
       "        vertical-align: middle;\n",
       "    }\n",
       "\n",
       "    .dataframe tbody tr th {\n",
       "        vertical-align: top;\n",
       "    }\n",
       "\n",
       "    .dataframe thead th {\n",
       "        text-align: right;\n",
       "    }\n",
       "</style>\n",
       "<table border=\"1\" class=\"dataframe\">\n",
       "  <thead>\n",
       "    <tr style=\"text-align: right;\">\n",
       "      <th></th>\n",
       "      <th>Hours</th>\n",
       "      <th>Scores</th>\n",
       "    </tr>\n",
       "  </thead>\n",
       "  <tbody>\n",
       "    <tr>\n",
       "      <th>0</th>\n",
       "      <td>2.5</td>\n",
       "      <td>21</td>\n",
       "    </tr>\n",
       "    <tr>\n",
       "      <th>1</th>\n",
       "      <td>5.1</td>\n",
       "      <td>47</td>\n",
       "    </tr>\n",
       "    <tr>\n",
       "      <th>2</th>\n",
       "      <td>3.2</td>\n",
       "      <td>27</td>\n",
       "    </tr>\n",
       "    <tr>\n",
       "      <th>3</th>\n",
       "      <td>8.5</td>\n",
       "      <td>75</td>\n",
       "    </tr>\n",
       "    <tr>\n",
       "      <th>4</th>\n",
       "      <td>3.5</td>\n",
       "      <td>30</td>\n",
       "    </tr>\n",
       "  </tbody>\n",
       "</table>\n",
       "</div>"
      ],
      "text/plain": [
       "   Hours  Scores\n",
       "0    2.5      21\n",
       "1    5.1      47\n",
       "2    3.2      27\n",
       "3    8.5      75\n",
       "4    3.5      30"
      ]
     },
     "execution_count": 4,
     "metadata": {},
     "output_type": "execute_result"
    }
   ],
   "source": [
    "print(\"Data imported successfully\")\n",
    "dataset.head()"
   ]
  },
  {
   "cell_type": "code",
   "execution_count": 5,
   "id": "5ec11c05",
   "metadata": {},
   "outputs": [
    {
     "data": {
      "text/html": [
       "<div>\n",
       "<style scoped>\n",
       "    .dataframe tbody tr th:only-of-type {\n",
       "        vertical-align: middle;\n",
       "    }\n",
       "\n",
       "    .dataframe tbody tr th {\n",
       "        vertical-align: top;\n",
       "    }\n",
       "\n",
       "    .dataframe thead th {\n",
       "        text-align: right;\n",
       "    }\n",
       "</style>\n",
       "<table border=\"1\" class=\"dataframe\">\n",
       "  <thead>\n",
       "    <tr style=\"text-align: right;\">\n",
       "      <th></th>\n",
       "      <th>Hours</th>\n",
       "      <th>Scores</th>\n",
       "    </tr>\n",
       "  </thead>\n",
       "  <tbody>\n",
       "    <tr>\n",
       "      <th>20</th>\n",
       "      <td>2.7</td>\n",
       "      <td>30</td>\n",
       "    </tr>\n",
       "    <tr>\n",
       "      <th>21</th>\n",
       "      <td>4.8</td>\n",
       "      <td>54</td>\n",
       "    </tr>\n",
       "    <tr>\n",
       "      <th>22</th>\n",
       "      <td>3.8</td>\n",
       "      <td>35</td>\n",
       "    </tr>\n",
       "    <tr>\n",
       "      <th>23</th>\n",
       "      <td>6.9</td>\n",
       "      <td>76</td>\n",
       "    </tr>\n",
       "    <tr>\n",
       "      <th>24</th>\n",
       "      <td>7.8</td>\n",
       "      <td>86</td>\n",
       "    </tr>\n",
       "  </tbody>\n",
       "</table>\n",
       "</div>"
      ],
      "text/plain": [
       "    Hours  Scores\n",
       "20    2.7      30\n",
       "21    4.8      54\n",
       "22    3.8      35\n",
       "23    6.9      76\n",
       "24    7.8      86"
      ]
     },
     "execution_count": 5,
     "metadata": {},
     "output_type": "execute_result"
    }
   ],
   "source": [
    "dataset.tail()"
   ]
  },
  {
   "cell_type": "markdown",
   "id": "545f69f6",
   "metadata": {},
   "source": [
    "**Step 3: Basic Characteristics of the data**"
   ]
  },
  {
   "cell_type": "code",
   "execution_count": 6,
   "id": "452019b6",
   "metadata": {},
   "outputs": [
    {
     "data": {
      "text/html": [
       "<div>\n",
       "<style scoped>\n",
       "    .dataframe tbody tr th:only-of-type {\n",
       "        vertical-align: middle;\n",
       "    }\n",
       "\n",
       "    .dataframe tbody tr th {\n",
       "        vertical-align: top;\n",
       "    }\n",
       "\n",
       "    .dataframe thead th {\n",
       "        text-align: right;\n",
       "    }\n",
       "</style>\n",
       "<table border=\"1\" class=\"dataframe\">\n",
       "  <thead>\n",
       "    <tr style=\"text-align: right;\">\n",
       "      <th></th>\n",
       "      <th>Hours</th>\n",
       "      <th>Scores</th>\n",
       "    </tr>\n",
       "  </thead>\n",
       "  <tbody>\n",
       "    <tr>\n",
       "      <th>count</th>\n",
       "      <td>25.000000</td>\n",
       "      <td>25.000000</td>\n",
       "    </tr>\n",
       "    <tr>\n",
       "      <th>mean</th>\n",
       "      <td>5.012000</td>\n",
       "      <td>51.480000</td>\n",
       "    </tr>\n",
       "    <tr>\n",
       "      <th>std</th>\n",
       "      <td>2.525094</td>\n",
       "      <td>25.286887</td>\n",
       "    </tr>\n",
       "    <tr>\n",
       "      <th>min</th>\n",
       "      <td>1.100000</td>\n",
       "      <td>17.000000</td>\n",
       "    </tr>\n",
       "    <tr>\n",
       "      <th>25%</th>\n",
       "      <td>2.700000</td>\n",
       "      <td>30.000000</td>\n",
       "    </tr>\n",
       "    <tr>\n",
       "      <th>50%</th>\n",
       "      <td>4.800000</td>\n",
       "      <td>47.000000</td>\n",
       "    </tr>\n",
       "    <tr>\n",
       "      <th>75%</th>\n",
       "      <td>7.400000</td>\n",
       "      <td>75.000000</td>\n",
       "    </tr>\n",
       "    <tr>\n",
       "      <th>max</th>\n",
       "      <td>9.200000</td>\n",
       "      <td>95.000000</td>\n",
       "    </tr>\n",
       "  </tbody>\n",
       "</table>\n",
       "</div>"
      ],
      "text/plain": [
       "           Hours     Scores\n",
       "count  25.000000  25.000000\n",
       "mean    5.012000  51.480000\n",
       "std     2.525094  25.286887\n",
       "min     1.100000  17.000000\n",
       "25%     2.700000  30.000000\n",
       "50%     4.800000  47.000000\n",
       "75%     7.400000  75.000000\n",
       "max     9.200000  95.000000"
      ]
     },
     "execution_count": 6,
     "metadata": {},
     "output_type": "execute_result"
    }
   ],
   "source": [
    "dataset.describe()"
   ]
  },
  {
   "cell_type": "markdown",
   "id": "f8cf100a",
   "metadata": {},
   "source": [
    "**Step 4: Data Visualization**"
   ]
  },
  {
   "cell_type": "code",
   "execution_count": 7,
   "id": "8ce0bc27",
   "metadata": {},
   "outputs": [
    {
     "data": {
      "image/png": "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\n",
      "text/plain": [
       "<Figure size 432x288 with 1 Axes>"
      ]
     },
     "metadata": {
      "needs_background": "light"
     },
     "output_type": "display_data"
    }
   ],
   "source": [
    "dataset.plot(x=\"Hours\",y=\"Scores\",style=\"o\")\n",
    "plt.title(\"Relationship between Study Hours and Percentage Scored\")\n",
    "plt.xlabel(\"Hours Studied\")\n",
    "plt.ylabel(\"Percentage Scored\")\n",
    "plt.grid(True)\n",
    "plt.show()"
   ]
  },
  {
   "cell_type": "markdown",
   "id": "1f13a165",
   "metadata": {},
   "source": [
    "**From the above graph, we can see that there is a Positive Linear Relationship between the Number of Hours studied and the Scores Obtained. We can say that the increase of Hours Studied(x), there is an increase in the Scores Obatined(y).**"
   ]
  },
  {
   "cell_type": "markdown",
   "id": "ee661dc0",
   "metadata": {},
   "source": [
    "**Step 5: Data Processing**"
   ]
  },
  {
   "cell_type": "code",
   "execution_count": 8,
   "id": "d75f8897",
   "metadata": {},
   "outputs": [],
   "source": [
    "X= dataset.iloc[:,:-1].values\n",
    "Y= dataset.iloc[:,1].values"
   ]
  },
  {
   "cell_type": "markdown",
   "id": "0f482852",
   "metadata": {},
   "source": [
    "**Step 6: Splitting the Dataset into Training Set and Test Set**"
   ]
  },
  {
   "cell_type": "code",
   "execution_count": 9,
   "id": "6dac751a",
   "metadata": {},
   "outputs": [],
   "source": [
    "X_train,x_test,Y_train,y_test=train_test_split(X,Y, train_size=0.8,random_state=0)"
   ]
  },
  {
   "cell_type": "code",
   "execution_count": 10,
   "id": "343ddb9c",
   "metadata": {},
   "outputs": [
    {
     "data": {
      "text/plain": [
       "array([[3.8],\n",
       "       [1.9],\n",
       "       [7.8],\n",
       "       [6.9],\n",
       "       [1.1],\n",
       "       [5.1],\n",
       "       [7.7],\n",
       "       [3.3],\n",
       "       [8.3],\n",
       "       [9.2],\n",
       "       [6.1],\n",
       "       [3.5],\n",
       "       [2.7],\n",
       "       [5.5],\n",
       "       [2.7],\n",
       "       [8.5],\n",
       "       [2.5],\n",
       "       [4.8],\n",
       "       [8.9],\n",
       "       [4.5]])"
      ]
     },
     "execution_count": 10,
     "metadata": {},
     "output_type": "execute_result"
    }
   ],
   "source": [
    "X_train"
   ]
  },
  {
   "cell_type": "raw",
   "id": "1bfa43c9",
   "metadata": {},
   "source": [
    "x_test"
   ]
  },
  {
   "cell_type": "code",
   "execution_count": 11,
   "id": "c2199b10",
   "metadata": {},
   "outputs": [
    {
     "data": {
      "text/plain": [
       "array([35, 24, 86, 76, 17, 47, 85, 42, 81, 88, 67, 30, 25, 60, 30, 75, 21,\n",
       "       54, 95, 41])"
      ]
     },
     "execution_count": 11,
     "metadata": {},
     "output_type": "execute_result"
    }
   ],
   "source": [
    "Y_train"
   ]
  },
  {
   "cell_type": "code",
   "execution_count": 12,
   "id": "c3b57382",
   "metadata": {},
   "outputs": [
    {
     "data": {
      "text/plain": [
       "array([20, 27, 69, 30, 62])"
      ]
     },
     "execution_count": 12,
     "metadata": {},
     "output_type": "execute_result"
    }
   ],
   "source": [
    "y_test"
   ]
  },
  {
   "cell_type": "markdown",
   "id": "853de066",
   "metadata": {},
   "source": [
    "**Step 7: Training the Simple Linear Regression Model on Training Set**"
   ]
  },
  {
   "cell_type": "code",
   "execution_count": 13,
   "id": "e778213d",
   "metadata": {},
   "outputs": [
    {
     "data": {
      "image/png": "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\n",
      "text/plain": [
       "<Figure size 432x288 with 1 Axes>"
      ]
     },
     "metadata": {
      "needs_background": "light"
     },
     "output_type": "display_data"
    }
   ],
   "source": [
    "regression_model= LinearRegression()\n",
    "regression_model.fit(X_train,Y_train)\n",
    "\n",
    "\n",
    "# Plotting the Regression Line\n",
    "line = regression_model.coef_*X+regression_model.intercept_\n",
    "\n",
    "plt.scatter(X,Y)\n",
    "plt.plot(X,line,\"m\")\n",
    "plt.title(\"Regression Plot\")\n",
    "plt.xlabel(\"Hours Studied\")\n",
    "plt.ylabel(\"Percentage Scored\")\n",
    "plt.show()"
   ]
  },
  {
   "cell_type": "markdown",
   "id": "5f36f76f",
   "metadata": {},
   "source": [
    "**Step 8: Predicting the Test Set reult**"
   ]
  },
  {
   "cell_type": "code",
   "execution_count": 14,
   "id": "cde8a32c",
   "metadata": {},
   "outputs": [
    {
     "data": {
      "text/plain": [
       "array([16.88414476, 33.73226078, 75.357018  , 26.79480124, 60.49103328])"
      ]
     },
     "execution_count": 14,
     "metadata": {},
     "output_type": "execute_result"
    }
   ],
   "source": [
    "y_pred = regression_model.predict(x_test)\n",
    "y_pred"
   ]
  },
  {
   "cell_type": "code",
   "execution_count": 15,
   "id": "e6f74167",
   "metadata": {},
   "outputs": [
    {
     "data": {
      "image/png": "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\n",
      "text/plain": [
       "<Figure size 432x288 with 1 Axes>"
      ]
     },
     "metadata": {
      "needs_background": "light"
     },
     "output_type": "display_data"
    }
   ],
   "source": [
    "#visualizing Test Data\n",
    "\n",
    "plt.scatter(x_test,y_test)\n",
    "plt.plot(X,line,\"r\")\n",
    "plt.title(\"Test Set\")\n",
    "plt.xlabel(\"Hours Studied\")\n",
    "plt.ylabel(\"Percentage Scored\")\n",
    "plt.show()"
   ]
  },
  {
   "cell_type": "markdown",
   "id": "30fb2082",
   "metadata": {},
   "source": [
    "**Step 9: Visualizing Train Data**"
   ]
  },
  {
   "cell_type": "code",
   "execution_count": 16,
   "id": "0f83f7be",
   "metadata": {},
   "outputs": [
    {
     "data": {
      "image/png": "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\n",
      "text/plain": [
       "<Figure size 432x288 with 1 Axes>"
      ]
     },
     "metadata": {
      "needs_background": "light"
     },
     "output_type": "display_data"
    }
   ],
   "source": [
    "plt.scatter(X_train,Y_train)\n",
    "plt.plot(X,line,\"darkorange\")\n",
    "plt.title(\"Training Set\")\n",
    "plt.xlabel(\"Hours Studied\")\n",
    "plt.ylabel(\"Percentage Scored\")\n",
    "plt.show()"
   ]
  },
  {
   "cell_type": "markdown",
   "id": "82c43bb7",
   "metadata": {},
   "source": [
    "**Step 10: Comparing the Predicted Score with the Actual Score**"
   ]
  },
  {
   "cell_type": "code",
   "execution_count": 17,
   "id": "0060f2c1",
   "metadata": {},
   "outputs": [
    {
     "data": {
      "text/html": [
       "<div>\n",
       "<style scoped>\n",
       "    .dataframe tbody tr th:only-of-type {\n",
       "        vertical-align: middle;\n",
       "    }\n",
       "\n",
       "    .dataframe tbody tr th {\n",
       "        vertical-align: top;\n",
       "    }\n",
       "\n",
       "    .dataframe thead th {\n",
       "        text-align: right;\n",
       "    }\n",
       "</style>\n",
       "<table border=\"1\" class=\"dataframe\">\n",
       "  <thead>\n",
       "    <tr style=\"text-align: right;\">\n",
       "      <th></th>\n",
       "      <th>Actual Score</th>\n",
       "      <th>Predicted Score</th>\n",
       "    </tr>\n",
       "  </thead>\n",
       "  <tbody>\n",
       "    <tr>\n",
       "      <th>0</th>\n",
       "      <td>20</td>\n",
       "      <td>16.884145</td>\n",
       "    </tr>\n",
       "    <tr>\n",
       "      <th>1</th>\n",
       "      <td>27</td>\n",
       "      <td>33.732261</td>\n",
       "    </tr>\n",
       "    <tr>\n",
       "      <th>2</th>\n",
       "      <td>69</td>\n",
       "      <td>75.357018</td>\n",
       "    </tr>\n",
       "    <tr>\n",
       "      <th>3</th>\n",
       "      <td>30</td>\n",
       "      <td>26.794801</td>\n",
       "    </tr>\n",
       "    <tr>\n",
       "      <th>4</th>\n",
       "      <td>62</td>\n",
       "      <td>60.491033</td>\n",
       "    </tr>\n",
       "  </tbody>\n",
       "</table>\n",
       "</div>"
      ],
      "text/plain": [
       "   Actual Score  Predicted Score\n",
       "0            20        16.884145\n",
       "1            27        33.732261\n",
       "2            69        75.357018\n",
       "3            30        26.794801\n",
       "4            62        60.491033"
      ]
     },
     "execution_count": 17,
     "metadata": {},
     "output_type": "execute_result"
    }
   ],
   "source": [
    "dataset = pd.DataFrame({'Actual Score': y_test, 'Predicted Score': y_pred})  \n",
    "dataset"
   ]
  },
  {
   "cell_type": "code",
   "execution_count": 18,
   "id": "4a6f2f60",
   "metadata": {},
   "outputs": [
    {
     "data": {
      "text/plain": [
       "<AxesSubplot:>"
      ]
     },
     "execution_count": 18,
     "metadata": {},
     "output_type": "execute_result"
    },
    {
     "data": {
      "image/png": "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\n",
      "text/plain": [
       "<Figure size 432x288 with 1 Axes>"
      ]
     },
     "metadata": {
      "needs_background": "light"
     },
     "output_type": "display_data"
    }
   ],
   "source": [
    "dataset.plot(kind='bar')"
   ]
  },
  {
   "cell_type": "code",
   "execution_count": 19,
   "id": "cc825a6f",
   "metadata": {},
   "outputs": [
    {
     "data": {
      "text/html": [
       "<div>\n",
       "<style scoped>\n",
       "    .dataframe tbody tr th:only-of-type {\n",
       "        vertical-align: middle;\n",
       "    }\n",
       "\n",
       "    .dataframe tbody tr th {\n",
       "        vertical-align: top;\n",
       "    }\n",
       "\n",
       "    .dataframe thead th {\n",
       "        text-align: right;\n",
       "    }\n",
       "</style>\n",
       "<table border=\"1\" class=\"dataframe\">\n",
       "  <thead>\n",
       "    <tr style=\"text-align: right;\">\n",
       "      <th></th>\n",
       "      <th>Hours</th>\n",
       "      <th>Actual Score</th>\n",
       "      <th>Predicted Score</th>\n",
       "    </tr>\n",
       "  </thead>\n",
       "  <tbody>\n",
       "    <tr>\n",
       "      <th>0</th>\n",
       "      <td>1.5</td>\n",
       "      <td>20</td>\n",
       "      <td>16.884145</td>\n",
       "    </tr>\n",
       "    <tr>\n",
       "      <th>1</th>\n",
       "      <td>3.2</td>\n",
       "      <td>27</td>\n",
       "      <td>33.732261</td>\n",
       "    </tr>\n",
       "    <tr>\n",
       "      <th>2</th>\n",
       "      <td>7.4</td>\n",
       "      <td>69</td>\n",
       "      <td>75.357018</td>\n",
       "    </tr>\n",
       "    <tr>\n",
       "      <th>3</th>\n",
       "      <td>2.5</td>\n",
       "      <td>30</td>\n",
       "      <td>26.794801</td>\n",
       "    </tr>\n",
       "    <tr>\n",
       "      <th>4</th>\n",
       "      <td>5.9</td>\n",
       "      <td>62</td>\n",
       "      <td>60.491033</td>\n",
       "    </tr>\n",
       "  </tbody>\n",
       "</table>\n",
       "</div>"
      ],
      "text/plain": [
       "   Hours  Actual Score  Predicted Score\n",
       "0    1.5            20        16.884145\n",
       "1    3.2            27        33.732261\n",
       "2    7.4            69        75.357018\n",
       "3    2.5            30        26.794801\n",
       "4    5.9            62        60.491033"
      ]
     },
     "execution_count": 19,
     "metadata": {},
     "output_type": "execute_result"
    }
   ],
   "source": [
    "dataset = pd.DataFrame({\"Hours\": x_test.reshape(1,-1)[0] , \"Actual Score\" : y_test.reshape(1,-1)[0] , \"Predicted Score\" : y_pred.reshape(1,-1)[0]})\n",
    "dataset"
   ]
  },
  {
   "cell_type": "markdown",
   "id": "da0c11b6",
   "metadata": {},
   "source": [
    "**Step 11: Evaluating the Model**"
   ]
  },
  {
   "cell_type": "code",
   "execution_count": 20,
   "id": "13befba9",
   "metadata": {},
   "outputs": [
    {
     "name": "stdout",
     "output_type": "stream",
     "text": [
      "Mean Absolute Error Is :  4.183859899002982\n",
      "Mean Squared Error Is :  21.598769307217456\n",
      "Root Mean Squared Error Is :  2.0454485813637513\n"
     ]
    }
   ],
   "source": [
    "print('Mean Absolute Error Is : ' , metrics.mean_absolute_error(y_test,y_pred))\n",
    "print('Mean Squared Error Is : ' , metrics.mean_squared_error(y_test,y_pred))\n",
    "print('Root Mean Squared Error Is : ' , np.sqrt(metrics.mean_absolute_error(y_test,y_pred)))"
   ]
  },
  {
   "cell_type": "code",
   "execution_count": 21,
   "id": "9da16ec2",
   "metadata": {},
   "outputs": [
    {
     "name": "stdout",
     "output_type": "stream",
     "text": [
      "correlation: 0.9515510725211552\n",
      "Accuracy: 0.9454906892105354\n"
     ]
    }
   ],
   "source": [
    "corr=r2_score(Y_train,regression_model.predict(X_train))\n",
    "print('correlation:',corr)\n",
    "\n",
    "acc=r2_score(y_test,y_pred)\n",
    "print('Accuracy:',acc)"
   ]
  },
  {
   "cell_type": "code",
   "execution_count": 22,
   "id": "9ace04bb",
   "metadata": {
    "scrolled": true
   },
   "outputs": [
    {
     "name": "stdout",
     "output_type": "stream",
     "text": [
      "Slope of Regression Line  [9.91065648]\n",
      "Y-intercept Of Regression Line 2.018160041434662\n"
     ]
    }
   ],
   "source": [
    "print(\"Slope of Regression Line \",regression_model.coef_)\n",
    "print(\"Y-intercept Of Regression Line\",regression_model.intercept_)"
   ]
  },
  {
   "cell_type": "markdown",
   "id": "3044e50e",
   "metadata": {},
   "source": [
    "## What will be the Predicted Score if a student studies for 9.25 hrs/ day?"
   ]
  },
  {
   "cell_type": "code",
   "execution_count": 23,
   "id": "47433965",
   "metadata": {
    "scrolled": true
   },
   "outputs": [
    {
     "name": "stdout",
     "output_type": "stream",
     "text": [
      "Number of Hours = 9.25\n",
      "Predicted Score = 93.69173248737539\n",
      "The predicted score if a student studies for 9.25 hrs/ day is 93.69173248737539\n"
     ]
    }
   ],
   "source": [
    "Hours=9.25\n",
    "pred = regression_model.predict([[Hours]])\n",
    "print('Number of Hours = {}' .format(Hours))\n",
    "print('Predicted Score = {}' .format(pred[0]))\n",
    "\n",
    "pred = regression_model.predict([[9.25]])\n",
    "print(\"The predicted score if a student studies for 9.25 hrs/ day is\",pred[0])"
   ]
  },
  {
   "cell_type": "markdown",
   "id": "8c9740b1",
   "metadata": {},
   "source": [
    "**We used a Linear Regression Model to predict the score of a student if he/she studies for 9.25 hours/day and the Predicted Score came out to be 93.69173248737539.**"
   ]
  },
  {
   "cell_type": "markdown",
   "id": "aea43d5c",
   "metadata": {},
   "source": [
    "## ...Thank You..."
   ]
  }
 ],
 "metadata": {
  "kernelspec": {
   "display_name": "Python 3 (ipykernel)",
   "language": "python",
   "name": "python3"
  },
  "language_info": {
   "codemirror_mode": {
    "name": "ipython",
    "version": 3
   },
   "file_extension": ".py",
   "mimetype": "text/x-python",
   "name": "python",
   "nbconvert_exporter": "python",
   "pygments_lexer": "ipython3",
   "version": "3.8.10"
  }
 },
 "nbformat": 4,
 "nbformat_minor": 5
}
